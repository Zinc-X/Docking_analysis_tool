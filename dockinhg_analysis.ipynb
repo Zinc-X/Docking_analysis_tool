{
 "cells": [
  {
   "cell_type": "code",
   "execution_count": 2,
   "metadata": {},
   "outputs": [
    {
     "ename": "NameError",
     "evalue": "name 'calculate_rmsd_between_sdf_files' is not defined",
     "output_type": "error",
     "traceback": [
      "\u001b[0;31m---------------------------------------------------------------------------\u001b[0m",
      "\u001b[0;31mNameError\u001b[0m                                 Traceback (most recent call last)",
      "\u001b[0;32m/tmp/ipykernel_626146/362471396.py\u001b[0m in \u001b[0;36m<module>\u001b[0;34m\u001b[0m\n\u001b[0;32m----> 1\u001b[0;31m \u001b[0;32mfrom\u001b[0m \u001b[0mrmsd_calculator\u001b[0m \u001b[0;32mimport\u001b[0m \u001b[0mcalculate_rmsd_between_mols\u001b[0m\u001b[0;34m\u001b[0m\u001b[0;34m\u001b[0m\u001b[0m\n\u001b[0m\u001b[1;32m      2\u001b[0m \u001b[0;34m\u001b[0m\u001b[0m\n\u001b[1;32m      3\u001b[0m \u001b[0;31m# 假设两个文件中的分子是成对匹配的\u001b[0m\u001b[0;34m\u001b[0m\u001b[0;34m\u001b[0m\u001b[0;34m\u001b[0m\u001b[0m\n\u001b[1;32m      4\u001b[0m \u001b[0mrmsd_values\u001b[0m \u001b[0;34m=\u001b[0m \u001b[0;34m[\u001b[0m\u001b[0;34m]\u001b[0m\u001b[0;34m\u001b[0m\u001b[0;34m\u001b[0m\u001b[0m\n\u001b[1;32m      5\u001b[0m \u001b[0mdocked_mol\u001b[0m \u001b[0;34m=\u001b[0m \u001b[0;34m\"/home/guest/AI_docking/EquiBind-main/system_basic_info/Abl/ligand/imatinib.mol2\"\u001b[0m\u001b[0;34m\u001b[0m\u001b[0;34m\u001b[0m\u001b[0m\n",
      "\u001b[0;32m~/AI_docking/docking_analysis_tool/rmsd_calculator.py\u001b[0m in \u001b[0;36m<module>\u001b[0;34m\u001b[0m\n\u001b[1;32m     26\u001b[0m \u001b[0msdf_file1\u001b[0m \u001b[0;34m=\u001b[0m \u001b[0;34m'conformer1.sdf'\u001b[0m\u001b[0;34m\u001b[0m\u001b[0;34m\u001b[0m\u001b[0m\n\u001b[1;32m     27\u001b[0m \u001b[0msdf_file2\u001b[0m \u001b[0;34m=\u001b[0m \u001b[0;34m'conformer2.sdf'\u001b[0m\u001b[0;34m\u001b[0m\u001b[0;34m\u001b[0m\u001b[0m\n\u001b[0;32m---> 28\u001b[0;31m \u001b[0mrmsd\u001b[0m \u001b[0;34m=\u001b[0m \u001b[0mcalculate_rmsd_between_sdf_files\u001b[0m\u001b[0;34m(\u001b[0m\u001b[0msdf_file1\u001b[0m\u001b[0;34m,\u001b[0m \u001b[0msdf_file2\u001b[0m\u001b[0;34m)\u001b[0m\u001b[0;34m\u001b[0m\u001b[0;34m\u001b[0m\u001b[0m\n\u001b[0m\u001b[1;32m     29\u001b[0m \u001b[0mprint\u001b[0m\u001b[0;34m(\u001b[0m\u001b[0;34mf\"RMSD between the two conformers: {rmsd}\"\u001b[0m\u001b[0;34m)\u001b[0m\u001b[0;34m\u001b[0m\u001b[0;34m\u001b[0m\u001b[0m\n",
      "\u001b[0;31mNameError\u001b[0m: name 'calculate_rmsd_between_sdf_files' is not defined"
     ]
    }
   ],
   "source": [
    "from rmsd_calculator import calculate_rmsd_between_mols\n",
    "\n",
    "# 假设两个文件中的分子是成对匹配的\n",
    "rmsd_values = []\n",
    "docked_mol = \"/home/guest/AI_docking/EquiBind-main/system_basic_info/Abl/ligand/imatinib.mol2\"\n",
    "reference_mol = \"/home/guest/AI_docking/EquiBind-main/data/results/output/Abl/lig_equibind_corrected.sdf\"\n",
    "rmsd = calculate_rmsd_between_mols(docked_mol, reference_mol)\n",
    "rmsd_values.append(rmsd)\n",
    "print(f\"RMSD: {rmsd}\")\n",
    "\n",
    "# for docked_mol, reference_mol in zip(docked_supplier, reference_supplier):\n",
    "#     if docked_mol is not None and reference_mol is not None:\n",
    "#         rmsd = calculate_rmsd_no_align(docked_mol, reference_mol)\n",
    "#         rmsd_values.append(rmsd)\n",
    "#         print(f\"RMSD: {rmsd}\")\n",
    "\n",
    "# 输出 RMSD 的结果\n",
    "print(f\"Average RMSD: {sum(rmsd_values) / len(rmsd_values)}\")"
   ]
  }
 ],
 "metadata": {
  "kernelspec": {
   "display_name": "equibind_cpu",
   "language": "python",
   "name": "python3"
  },
  "language_info": {
   "codemirror_mode": {
    "name": "ipython",
    "version": 3
   },
   "file_extension": ".py",
   "mimetype": "text/x-python",
   "name": "python",
   "nbconvert_exporter": "python",
   "pygments_lexer": "ipython3",
   "version": "3.7.12"
  }
 },
 "nbformat": 4,
 "nbformat_minor": 2
}
