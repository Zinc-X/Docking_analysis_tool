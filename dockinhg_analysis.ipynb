{
 "cells": [
  {
   "cell_type": "code",
   "execution_count": 1,
   "metadata": {},
   "outputs": [
    {
     "ename": "ImportError",
     "evalue": "cannot import name 'calculate_rmsd_between_mols' from 'rmsd_calculator' (/data/ZengXincheng/projects/docking_analysis_tool/rmsd_calculator.py)",
     "output_type": "error",
     "traceback": [
      "\u001b[0;31m---------------------------------------------------------------------------\u001b[0m",
      "\u001b[0;31mImportError\u001b[0m                               Traceback (most recent call last)",
      "Cell \u001b[0;32mIn[1], line 1\u001b[0m\n\u001b[0;32m----> 1\u001b[0m \u001b[38;5;28;01mfrom\u001b[39;00m \u001b[38;5;21;01mrmsd_calculator\u001b[39;00m \u001b[38;5;28;01mimport\u001b[39;00m calculate_rmsd_between_mols\n\u001b[1;32m      3\u001b[0m \u001b[38;5;66;03m# 假设两个文件中的分子是成对匹配的\u001b[39;00m\n\u001b[1;32m      4\u001b[0m rmsd_values \u001b[38;5;241m=\u001b[39m []\n",
      "\u001b[0;31mImportError\u001b[0m: cannot import name 'calculate_rmsd_between_mols' from 'rmsd_calculator' (/data/ZengXincheng/projects/docking_analysis_tool/rmsd_calculator.py)"
     ]
    }
   ],
   "source": [
    "from rmsd_calculator import calculate_rmsd_between_mols\n",
    "\n",
    "# 假设两个文件中的分子是成对匹配的\n",
    "rmsd_values = []\n",
    "docked_mol = \"/home/guest/AI_docking/EquiBind-main/data/results/output/Abl/lig_equibind_corrected.sdf\"\n",
    "reference_mol = \"/home/guest/AI_docking/EquiBind-main/data/results/output/Abl/lig_equibind_corrected.sdf\"\n",
    "rmsd = calculate_rmsd_between_mols(docked_mol, reference_mol)\n",
    "rmsd_values.append(rmsd)\n",
    "print(f\"RMSD: {rmsd}\")\n",
    "\n",
    "# for docked_mol, reference_mol in zip(docked_supplier, reference_supplier):\n",
    "#     if docked_mol is not None and reference_mol is not None:\n",
    "#         rmsd = calculate_rmsd_no_align(docked_mol, reference_mol)\n",
    "#         rmsd_values.append(rmsd)\n",
    "#         print(f\"RMSD: {rmsd}\")\n",
    "\n",
    "# 输出 RMSD 的结果\n",
    "print(f\"Average RMSD: {sum(rmsd_values) / len(rmsd_values)}\")"
   ]
  },
  {
   "cell_type": "code",
   "execution_count": 2,
   "metadata": {},
   "outputs": [],
   "source": [
    "from rdkit import Chem\n",
    "from rdkit.Chem import AllChem\n",
    "\n",
    "def calculate_rmsd(sdf_file1: str, sdf_file2: str) -> float:\n",
    "    \"\"\"\n",
    "    计算两个SDF文件中相同分子构象之间的RMSD值。\n",
    "\n",
    "    参数:\n",
    "    sdf_file1 (str): 第一个SDF文件的路径。\n",
    "    sdf_file2 (str): 第二个SDF文件的路径。\n",
    "\n",
    "    返回:\n",
    "    float: 两个分子构象之间的RMSD值。如果出现错误或分子不匹配，返回None。\n",
    "    \"\"\"\n",
    "    try:\n",
    "        # 读取第一个SDF文件中的分子\n",
    "        mol_supplier1 = Chem.SDMolSupplier(sdf_file1)\n",
    "        mol1 = mol_supplier1[0]\n",
    "        \n",
    "        # 读取第二个SDF文件中的分子\n",
    "        mol_supplier2 = Chem.SDMolSupplier(sdf_file2)\n",
    "        mol2 = mol_supplier2[0]\n",
    "        \n",
    "        if mol1 is None or mol2 is None:\n",
    "            raise ValueError(\"其中一个SDF文件未能正确加载分子\")\n",
    "\n",
    "        # 为两个分子生成3D坐标\n",
    "        AllChem.EmbedMolecule(mol1)\n",
    "        AllChem.EmbedMolecule(mol2)\n",
    "\n",
    "        # 计算RMSD值\n",
    "        rmsd = AllChem.GetBestRMS(mol1, mol2)\n",
    "        \n",
    "        return rmsd\n",
    "    except Exception as e:\n",
    "        print(f\"计算RMSD时出错: {e}\")\n",
    "        return None\n"
   ]
  },
  {
   "cell_type": "code",
   "execution_count": 6,
   "metadata": {},
   "outputs": [
    {
     "data": {
      "text/plain": [
       "(1.0731755995923544, 76.6305096423005)"
      ]
     },
     "execution_count": 6,
     "metadata": {},
     "output_type": "execute_result"
    }
   ],
   "source": [
    "from rmsd_calculator import GetBestRMSD\n",
    "sdf_file1 = \"/home/guest/AI_docking/EquiBind-main/test_docking/test_docking_stage2/ABL1/5MO4_asciminib/AY7_asciminib.sdf\"\n",
    "sdf_file2 = \"/home/guest/AI_docking/EquiBind-main/data/results/output/5MO4_asciminib/lig_equibind_corrected.sdf\"\n",
    "\n",
    "\n",
    "# here, rms is Fitted, rmsd is NOT Fit!!!\n",
    "GetBestRMSD(sdf_file1,sdf_file2)"
   ]
  },
  {
   "cell_type": "code",
   "execution_count": 42,
   "metadata": {},
   "outputs": [
    {
     "name": "stdout",
     "output_type": "stream",
     "text": [
      "<class 'rdkit.Chem.rdchem.Mol'>\n"
     ]
    }
   ],
   "source": [
    "sdf_file1 = \"/home/guest/AI_docking/EquiBind-main/test_docking/test_docking_stage2/ABL1/5MO4_asciminib/AY7_asciminib.sdf\"\n",
    "sdfmol = Chem.SDMolSupplier(sdf_file1)\n",
    "mol = next(iter(sdfmol), None)\n",
    "print(type(mol))"
   ]
  },
  {
   "cell_type": "code",
   "execution_count": 45,
   "metadata": {},
   "outputs": [
    {
     "name": "stdout",
     "output_type": "stream",
     "text": [
      "m Smiles: O=C(Nc1ccc(OC(F)(F)Cl)cc1)c1cnc(N2CC[C@@H](O)C2)c(-c2ccn[nH]2)c1\n",
      "m2 Smiles: [H]O[C@@]1([H])C([H])([H])N(c2nc([H])c(C(=O)N([H])c3c([H])c([H])c(OC(F)(F)Cl)c([H])c3[H])c([H])c2-c2c([H])c([H])nn2[H])C([H])([H])C1([H])[H]\n",
      "num ATOMs in m: 31\n",
      "num ATOMs in m2: 49\n"
     ]
    }
   ],
   "source": [
    "from rdkit import Chem\n",
    "# m = Chem.MolFromSmiles('OC1C2C1CC2')\n",
    "m2 = Chem.AddHs(mol)\n",
    "print(\"m Smiles:\",Chem.MolToSmiles(mol))\n",
    "print(\"m2 Smiles:\",Chem.MolToSmiles(m2))\n",
    "print(\"num ATOMs in m:\",mol.GetNumAtoms())\n",
    "print(\"num ATOMs in m2:\",m2.GetNumAtoms())"
   ]
  },
  {
   "cell_type": "code",
   "execution_count": 38,
   "metadata": {},
   "outputs": [
    {
     "name": "stdout",
     "output_type": "stream",
     "text": [
      "原子编号: 0, 元素: C\n",
      "原子编号: 1, 元素: C\n",
      "原子编号: 2, 元素: C\n",
      "原子编号: 3, 元素: C\n",
      "原子编号: 4, 元素: C\n",
      "原子编号: 5, 元素: C\n",
      "原子编号: 6, 元素: C\n",
      "原子编号: 7, 元素: C\n",
      "原子编号: 8, 元素: C\n",
      "原子编号: 9, 元素: C\n",
      "原子编号: 10, 元素: C\n",
      "原子编号: 11, 元素: C\n",
      "原子编号: 12, 元素: C\n",
      "原子编号: 13, 元素: C\n",
      "原子编号: 14, 元素: N\n",
      "原子编号: 15, 元素: C\n",
      "原子编号: 16, 元素: C\n",
      "原子编号: 17, 元素: C\n",
      "原子编号: 18, 元素: N\n",
      "原子编号: 19, 元素: C\n",
      "原子编号: 20, 元素: C\n",
      "原子编号: 21, 元素: C\n",
      "原子编号: 22, 元素: N\n",
      "原子编号: 23, 元素: O\n",
      "原子编号: 24, 元素: O\n",
      "原子编号: 25, 元素: O\n",
      "原子编号: 26, 元素: N\n",
      "原子编号: 27, 元素: N\n",
      "原子编号: 28, 元素: F\n",
      "原子编号: 29, 元素: F\n",
      "原子编号: 30, 元素: Cl\n"
     ]
    }
   ],
   "source": [
    "# 例子分子\n",
    "# mol = Chem.MolFromSmiles('CCCCO')  # 乙醇\n",
    "\n",
    "# 选取重原子（原子序数大于1）\n",
    "heavy_atoms = [atom for atom in mol.GetAtoms()]\n",
    "\n",
    "# 打印重原子的信息\n",
    "for atom in heavy_atoms:\n",
    "    print(f'原子编号: {atom.GetIdx()}, 元素: {atom.GetSymbol()}')"
   ]
  },
  {
   "cell_type": "code",
   "execution_count": 18,
   "metadata": {},
   "outputs": [
    {
     "name": "stdout",
     "output_type": "stream",
     "text": [
      "<rdkit.Chem.rdchem.Mol object at 0x7a174ec4b090>\n"
     ]
    }
   ],
   "source": [
    "for i in sdfmol:\n",
    "    print(i)"
   ]
  },
  {
   "cell_type": "code",
   "execution_count": 9,
   "metadata": {},
   "outputs": [
    {
     "name": "stdout",
     "output_type": "stream",
     "text": [
      "<class 'rdkit.Chem.rdchem.Mol'>\n"
     ]
    }
   ],
   "source": [
    "smi='CC(C)OC(=O)C(C)NP(=O)(OCC1C(C(C(O1)N2C=CC(=O)NC2=O)(C)F)O)OC3=CC=CC=C3'\n",
    "from rdkit import Chem\n",
    "from rdkit.Chem import AllChem\n",
    "mol = Chem.MolFromSmiles(smi)\n",
    "print(type(mol))"
   ]
  },
  {
   "cell_type": "code",
   "execution_count": 23,
   "metadata": {},
   "outputs": [
    {
     "ename": "ArgumentError",
     "evalue": "Python argument types in\n    rdkit.Chem.rdMolAlign.GetBestRMS(SDMolSupplier, SDMolSupplier)\ndid not match C++ signature:\n    GetBestRMS(RDKit::ROMol {lvalue} prbMol, RDKit::ROMol {lvalue} refMol, int prbId=-1, int refId=-1, boost::python::api::object map=None, int maxMatches=1000000, bool symmetrizeConjugatedTerminalGroups=True, boost::python::api::object weights=[])",
     "output_type": "error",
     "traceback": [
      "\u001b[0;31m---------------------------------------------------------------------------\u001b[0m",
      "\u001b[0;31mArgumentError\u001b[0m                             Traceback (most recent call last)",
      "\u001b[0;32m/tmp/ipykernel_627616/2248489151.py\u001b[0m in \u001b[0;36m<module>\u001b[0;34m\u001b[0m\n\u001b[1;32m     17\u001b[0m \u001b[0mreference_supplier\u001b[0m \u001b[0;34m=\u001b[0m \u001b[0mChem\u001b[0m\u001b[0;34m.\u001b[0m\u001b[0mSDMolSupplier\u001b[0m\u001b[0;34m(\u001b[0m\u001b[0msdf_file2\u001b[0m\u001b[0;34m)\u001b[0m\u001b[0;34m\u001b[0m\u001b[0;34m\u001b[0m\u001b[0m\n\u001b[1;32m     18\u001b[0m \u001b[0;34m\u001b[0m\u001b[0m\n\u001b[0;32m---> 19\u001b[0;31m \u001b[0mcalculate_rmsd_no_align\u001b[0m\u001b[0;34m(\u001b[0m\u001b[0mdocked_supplier\u001b[0m\u001b[0;34m,\u001b[0m \u001b[0mreference_supplier\u001b[0m\u001b[0;34m)\u001b[0m\u001b[0;34m\u001b[0m\u001b[0;34m\u001b[0m\u001b[0m\n\u001b[0m",
      "\u001b[0;32m/tmp/ipykernel_627616/2248489151.py\u001b[0m in \u001b[0;36mcalculate_rmsd_no_align\u001b[0;34m(mol1, mol2)\u001b[0m\n\u001b[1;32m      9\u001b[0m \u001b[0;32mdef\u001b[0m \u001b[0mcalculate_rmsd_no_align\u001b[0m\u001b[0;34m(\u001b[0m\u001b[0mmol1\u001b[0m\u001b[0;34m,\u001b[0m \u001b[0mmol2\u001b[0m\u001b[0;34m)\u001b[0m\u001b[0;34m:\u001b[0m\u001b[0;34m\u001b[0m\u001b[0;34m\u001b[0m\u001b[0m\n\u001b[1;32m     10\u001b[0m     \u001b[0;31m# 直接计算RMSD, 不进行对齐\u001b[0m\u001b[0;34m\u001b[0m\u001b[0;34m\u001b[0m\u001b[0;34m\u001b[0m\u001b[0m\n\u001b[0;32m---> 11\u001b[0;31m     \u001b[0mAllChem\u001b[0m\u001b[0;34m.\u001b[0m\u001b[0mGetBestRMS\u001b[0m\u001b[0;34m(\u001b[0m\u001b[0mmol1\u001b[0m\u001b[0;34m,\u001b[0m \u001b[0mmol2\u001b[0m\u001b[0;34m)\u001b[0m\u001b[0;34m\u001b[0m\u001b[0;34m\u001b[0m\u001b[0m\n\u001b[0m\u001b[1;32m     12\u001b[0m     \u001b[0mrmsd\u001b[0m \u001b[0;34m=\u001b[0m \u001b[0mAllChem\u001b[0m\u001b[0;34m.\u001b[0m\u001b[0mGetConformerRMS\u001b[0m\u001b[0;34m(\u001b[0m\u001b[0mmol1\u001b[0m\u001b[0;34m,\u001b[0m \u001b[0mmol2\u001b[0m\u001b[0;34m,\u001b[0m \u001b[0mprealigned\u001b[0m\u001b[0;34m=\u001b[0m\u001b[0;32mTrue\u001b[0m\u001b[0;34m)\u001b[0m\u001b[0;34m\u001b[0m\u001b[0;34m\u001b[0m\u001b[0m\n\u001b[1;32m     13\u001b[0m     \u001b[0;32mreturn\u001b[0m \u001b[0mrmsd\u001b[0m\u001b[0;34m\u001b[0m\u001b[0;34m\u001b[0m\u001b[0m\n",
      "\u001b[0;31mArgumentError\u001b[0m: Python argument types in\n    rdkit.Chem.rdMolAlign.GetBestRMS(SDMolSupplier, SDMolSupplier)\ndid not match C++ signature:\n    GetBestRMS(RDKit::ROMol {lvalue} prbMol, RDKit::ROMol {lvalue} refMol, int prbId=-1, int refId=-1, boost::python::api::object map=None, int maxMatches=1000000, bool symmetrizeConjugatedTerminalGroups=True, boost::python::api::object weights=[])"
     ]
    }
   ],
   "source": [
    "from rdkit import Chem\n",
    "from rdkit.Chem import rdMolAlign\n",
    "\n",
    "sdf_file2 = sdf_file1 = \"/home/guest/AI_docking/EquiBind-main/data/results/output/5MO4_asciminib/lig_equibind_corrected.sdf\"\n",
    "\n",
    "from rdkit import Chem\n",
    "from rdkit.Chem import AllChem\n",
    "\n",
    "def calculate_rmsd_no_align(mol1, mol2):\n",
    "    # 直接计算RMSD, 不进行对齐\n",
    "    AllChem.GetBestRMS(mol1, mol2)\n",
    "    rmsd = AllChem.GetConformerRMS(mol1, mol2, prealigned=True)\n",
    "    return rmsd\n",
    "\n",
    "# 读取对接后的分子和真实分子的SDF文件\n",
    "docked_supplier = Chem.SDMolSupplier(sdf_file2)\n",
    "reference_supplier = Chem.SDMolSupplier(sdf_file2)\n",
    "\n",
    "calculate_rmsd_no_align(docked_supplier, reference_supplier)\n"
   ]
  },
  {
   "cell_type": "code",
   "execution_count": 13,
   "metadata": {},
   "outputs": [
    {
     "name": "stderr",
     "output_type": "stream",
     "text": [
      "[11:14:39] ERROR: Counts line too short: 'SMALL' on line158\n",
      "[11:14:39] ERROR: moving to the beginning of the next molecule\n"
     ]
    }
   ],
   "source": [
    "mol_supplier1[0]"
   ]
  }
 ],
 "metadata": {
  "kernelspec": {
   "display_name": "equibind_cpu",
   "language": "python",
   "name": "python3"
  },
  "language_info": {
   "codemirror_mode": {
    "name": "ipython",
    "version": 3
   },
   "file_extension": ".py",
   "mimetype": "text/x-python",
   "name": "python",
   "nbconvert_exporter": "python",
   "pygments_lexer": "ipython3",
   "version": "3.8.19"
  }
 },
 "nbformat": 4,
 "nbformat_minor": 2
}
